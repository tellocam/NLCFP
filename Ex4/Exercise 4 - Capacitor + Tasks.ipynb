{
 "cells": [
  {
   "cell_type": "markdown",
   "id": "9d9e5566",
   "metadata": {},
   "source": [
    "$$\n",
    "%\\newcommand{\\oneform}[1]{{\\vphantom{{#1}}}^{1}\\!{#1}{\\vphantom{#1}}}\n",
    "\\newcommand{\\oneform}[1]{\\overset{1}{#1}{\\vphantom{#1}}}\n",
    "%\\newcommand{\\volform}[1]{{\\vphantom{{\\omega}}}^{#1}\\!{\\omega}{\\vphantom{\\omega}}}\n",
    "\\newcommand{\\volform}[1]{\\overset{#1}{\\omega}{\\vphantom{\\omega}}}\n",
    "\\renewcommand{\\vector}[1]{\\boldsymbol{#1}}\n",
    "\\newcommand{\\curve}[1]{{#1}}\n",
    "\\newcommand{\\fbasis}[1]{{d#1}}\n",
    "\\newcommand{\\uprm}[1]{^{\\mathrm{#1}}}\n",
    "\\newcommand{\\tensor}[1]{\\mathbf{#1}}\n",
    "\\newcommand{\\norm}[1]{||#1||}\n",
    "$$\n",
    "\n",
    "# Overview\n",
    "\n",
    "In this exercise we investigate a capacitor-like structure surrounded by nothing but air as depicted in the section on the geometry below.\n",
    "The role of the dielectric medium is played by a insulating elastomer. The electrodes are modeled by an insulating but highly permittive (very high $\\varepsilon$) elastic material. Both the elastomer and the electrodes are assumed to be pratically *rigid*. The simplified electrostatic model of the electrodes\n",
    "will be assessed a posteriori. \n",
    "\n",
    "We employ the vacuum co-energy density\n",
    "\\begin{equation}\n",
    "\\psi^{\\text{vac}}(\\norm{\\oneform{e}}) = -\\frac{\\varepsilon_0}{2} \\norm{\\oneform{e}}^2\n",
    "\\end{equation}\n",
    "for the air. For dielectric media (electrode and elastomer), we employ\n",
    "\\begin{equation}\n",
    "\\psi^{\\text{ES}}(\\norm{\\oneform{e}}) = -\\frac{\\varepsilon_0\\,\\epsilon_r}{2} \\norm{\\oneform{e}}^2 ,\n",
    "\\end{equation}\n",
    "which is a rather simple model but sufficient for our purposes."
   ]
  },
  {
   "cell_type": "markdown",
   "id": "664eb3a1",
   "metadata": {},
   "source": [
    "# Geometry"
   ]
  },
  {
   "cell_type": "markdown",
   "id": "b935f892",
   "metadata": {},
   "source": [
    "<img src=capacitor.png></img>"
   ]
  },
  {
   "cell_type": "code",
   "execution_count": 328,
   "id": "ffbb0b00",
   "metadata": {},
   "outputs": [],
   "source": [
    "from netgen.occ import *\n",
    "from netgen.webgui import Draw as DrawGeo\n",
    "from ngsolve.webgui import Draw"
   ]
  },
  {
   "cell_type": "code",
   "execution_count": 329,
   "id": "65577580",
   "metadata": {},
   "outputs": [],
   "source": [
    "import numpy as np"
   ]
  },
  {
   "cell_type": "code",
   "execution_count": 330,
   "id": "2c2e082d",
   "metadata": {},
   "outputs": [],
   "source": [
    "L = 10\n",
    "l = 1\n",
    "d = 1/10\n",
    "r = d/4"
   ]
  },
  {
   "cell_type": "code",
   "execution_count": 331,
   "id": "e6d10b38",
   "metadata": {},
   "outputs": [],
   "source": [
    "everywhere = Rectangle(L, L).Face()"
   ]
  },
  {
   "cell_type": "code",
   "execution_count": 332,
   "id": "57b0d41a",
   "metadata": {},
   "outputs": [],
   "source": [
    "elastomer = Rectangle(l, l).Face()\n",
    "inclusion_1 = Circle((0.2,0.2),0.1).Face()\n",
    "inclusion_2 = Circle((0.6,0.6),0.1).Face()\n",
    "inclusion_3 = Circle((0.8,0.8),0.1).Face()\n",
    "\n",
    "inclusions = inclusion_1 + inclusion_2 + inclusion_3\n",
    "\n",
    "elastomer = elastomer - inclusions\n"
   ]
  },
  {
   "cell_type": "code",
   "execution_count": 333,
   "id": "afde7307",
   "metadata": {},
   "outputs": [],
   "source": [
    "electrode = WorkPlane()\n",
    "electrode.MoveTo(0, l).Line(l)\n",
    "electrode.Direction(0, 1).Line(d-r)\n",
    "electrode.Arc(r, 90)\n",
    "electrode.Direction(-1, 0).Line(l-r)\n",
    "electrode.Close()\n",
    "electrode = electrode.Face()"
   ]
  },
  {
   "cell_type": "code",
   "execution_count": 334,
   "id": "663a7f37",
   "metadata": {},
   "outputs": [],
   "source": [
    "elastomer.maxh = l/10\n",
    "electrode.maxh = d/2\n",
    "\n",
    "for f in elastomer.faces:\n",
    "    f.name = \"elastomer\"\n",
    "    \n",
    "for f in electrode.faces:\n",
    "    f.name = \"electrode\"\n",
    "\n",
    "for f in inclusions.faces:\n",
    "    f.name = \"inclusion\"\n",
    "\n",
    "bodies = Glue([elastomer, electrode, inclusions])"
   ]
  },
  {
   "cell_type": "code",
   "execution_count": 335,
   "id": "830be9a3",
   "metadata": {},
   "outputs": [],
   "source": [
    "\n",
    "air = everywhere - bodies\n",
    "\n",
    "    \n",
    "for f in air.faces:\n",
    "    f.name = \"air\"\n",
    "\n",
    "all_space = Glue([bodies, air])"
   ]
  },
  {
   "cell_type": "code",
   "execution_count": 336,
   "id": "616f2844",
   "metadata": {},
   "outputs": [],
   "source": [
    "for e in all_space.edges[X < 0 + 1e-4]:\n",
    "    e.name = \"left\"\n",
    "    \n",
    "for e in all_space.edges[X > L - 1e-4]:\n",
    "    e.name = \"right\"\n",
    "    \n",
    "for e in all_space.edges[Y < 0 + 1e-4]:\n",
    "    e.name = \"bottom\"\n",
    "    \n",
    "for e in all_space.edges[Y > L - 1e-4]:\n",
    "    e.name = \"top\""
   ]
  },
  {
   "cell_type": "code",
   "execution_count": 337,
   "id": "537eaf4b",
   "metadata": {},
   "outputs": [
    {
     "data": {
      "application/vnd.jupyter.widget-view+json": {
       "model_id": "6e381e72f4c144349aae8acb7baf0724",
       "version_major": 2,
       "version_minor": 0
      },
      "text/plain": [
       "WebGuiWidget(value={'ngsolve_version': 'Netgen x.x', 'mesh_dim': 3, 'mesh_center': [5.0, 5.000000000000001, 0.…"
      ]
     },
     "metadata": {},
     "output_type": "display_data"
    },
    {
     "data": {
      "text/plain": [
       "BaseWebGuiScene"
      ]
     },
     "execution_count": 337,
     "metadata": {},
     "output_type": "execute_result"
    }
   ],
   "source": [
    "DrawGeo(all_space)"
   ]
  },
  {
   "cell_type": "code",
   "execution_count": 338,
   "id": "59acb87b",
   "metadata": {},
   "outputs": [],
   "source": [
    "geo = OCCGeometry(all_space, dim=2)\n",
    "ngmesh = geo.GenerateMesh(maxh=0.5)"
   ]
  },
  {
   "cell_type": "code",
   "execution_count": 339,
   "id": "a423e5b9",
   "metadata": {},
   "outputs": [],
   "source": [
    "from ngsolve import *\n",
    "from ngsolve.webgui import Draw"
   ]
  },
  {
   "cell_type": "code",
   "execution_count": 340,
   "id": "6e181eda",
   "metadata": {},
   "outputs": [],
   "source": [
    "mesh = Mesh(ngmesh)"
   ]
  },
  {
   "cell_type": "code",
   "execution_count": 341,
   "id": "a69887ec",
   "metadata": {},
   "outputs": [
    {
     "data": {
      "application/vnd.jupyter.widget-view+json": {
       "model_id": "cb6deb50ee3b4a5691a08de397ac01d7",
       "version_major": 2,
       "version_minor": 0
      },
      "text/plain": [
       "WebGuiWidget(value={'gui_settings': {}, 'ngsolve_version': '6.2.2204', 'mesh_dim': 2, 'order2d': 1, 'order3d':…"
      ]
     },
     "metadata": {},
     "output_type": "display_data"
    },
    {
     "data": {
      "text/plain": [
       "BaseWebGuiScene"
      ]
     },
     "execution_count": 341,
     "metadata": {},
     "output_type": "execute_result"
    }
   ],
   "source": [
    "Draw(mesh)"
   ]
  },
  {
   "cell_type": "code",
   "execution_count": 342,
   "id": "da4ac7f7",
   "metadata": {},
   "outputs": [],
   "source": [
    "AIR = mesh.Materials(\"air\")\n",
    "ELASTOMER = mesh.Materials(\"elastomer\")\n",
    "ELECTRODE = mesh.Materials(\"electrode\")\n",
    "INCLUSIONS = mesh.Materials(\"inclusion\")"
   ]
  },
  {
   "cell_type": "markdown",
   "id": "5109f384",
   "metadata": {},
   "source": [
    "# Function spaces"
   ]
  },
  {
   "cell_type": "code",
   "execution_count": 343,
   "id": "63eed3fa",
   "metadata": {},
   "outputs": [
    {
     "data": {
      "text/plain": [
       "0.08997955033585597"
      ]
     },
     "execution_count": 343,
     "metadata": {},
     "output_type": "execute_result"
    }
   ],
   "source": [
    "Integrate(CF(1), mesh, definedon=ELASTOMER)\n",
    "Integrate(CF(1), mesh, definedon=INCLUSIONS)"
   ]
  },
  {
   "cell_type": "code",
   "execution_count": 344,
   "id": "4e5825e9",
   "metadata": {},
   "outputs": [],
   "source": [
    "fes = H1(mesh, order=2, dirichlet=\"bottom\") * H1(mesh, order=2, dirichlet=\"top|bottom\")\n",
    "\n",
    "phi, phi_m = fes.TrialFunction()\n",
    "\n",
    "gfsol = GridFunction(fes)\n",
    "gf_phi, gf_phi_m = gfsol.components"
   ]
  },
  {
   "cell_type": "code",
   "execution_count": null,
   "id": "5fb5cb25",
   "metadata": {},
   "outputs": [],
   "source": []
  },
  {
   "cell_type": "code",
   "execution_count": 345,
   "id": "a0dc8273",
   "metadata": {},
   "outputs": [],
   "source": [
    "# for postprocessing\n",
    "fes_e = VectorL2(mesh, order=1) # for electric field and d-field"
   ]
  },
  {
   "cell_type": "code",
   "execution_count": 346,
   "id": "0d2ead2e",
   "metadata": {},
   "outputs": [],
   "source": [
    "gf_e = GridFunction(fes_e)\n",
    "gf_d = GridFunction(fes_e)\n",
    "gf_h = GridFunction(fes_e)\n",
    "gf_b = GridFunction(fes_e)"
   ]
  },
  {
   "cell_type": "markdown",
   "id": "32aea612",
   "metadata": {},
   "source": [
    "# Kinematics"
   ]
  },
  {
   "cell_type": "code",
   "execution_count": 347,
   "id": "82180013",
   "metadata": {},
   "outputs": [],
   "source": [
    "# The electric field\n",
    "def e(phi):\n",
    "    return -Grad(phi)\n",
    "\n",
    "# The h-field\n",
    "\n",
    "def h(phi_m):\n",
    "    return -Grad(phi_m)"
   ]
  },
  {
   "cell_type": "markdown",
   "id": "856eb598",
   "metadata": {},
   "source": [
    "# Energy densities"
   ]
  },
  {
   "cell_type": "markdown",
   "id": "c0174112",
   "metadata": {},
   "source": [
    "## Electrostatic energy density"
   ]
  },
  {
   "cell_type": "code",
   "execution_count": 348,
   "id": "1fe6aa15",
   "metadata": {},
   "outputs": [],
   "source": [
    "epsilon_0 = 8.856*1e-7\n",
    "epsilon_r_air = Parameter(1)\n",
    "epsilon_r_electrode = Parameter(1e4)\n",
    "epsilon_r_elastomer = Parameter(5)\n",
    "epsilon_r_inclusion = Parameter(50)\n",
    "mu_0 = Parameter(4*np.pi*1e-1)\n",
    "mu_r_inclusion = Parameter(10)\n",
    "mu_r_nm = Parameter(1)\n",
    "\n",
    "def Psi(e, h, epsilon_r, mu_r):\n",
    "    return -epsilon_0 * epsilon_r * InnerProduct(e, e) -mu_0  * mu_r * InnerProduct(h, h) "
   ]
  },
  {
   "cell_type": "code",
   "execution_count": 349,
   "id": "174ba9aa",
   "metadata": {},
   "outputs": [],
   "source": [
    "def generate_Psi_dict(e, h):\n",
    "    return {AIR: Psi(e, h, epsilon_r_air, mu_r_nm), \n",
    "            ELASTOMER: Psi(e, h, epsilon_r_elastomer, mu_r_nm ),\n",
    "            ELECTRODE: Psi(e, h, epsilon_r_electrode, mu_r_nm),\n",
    "            INCLUSIONS: Psi(e, h, epsilon_r_inclusion, mu_r_inclusion)}"
   ]
  },
  {
   "cell_type": "markdown",
   "id": "e6c4c186",
   "metadata": {},
   "source": [
    "## Postprocessing helper for the electric displacement field (aka charge potential)"
   ]
  },
  {
   "cell_type": "code",
   "execution_count": 350,
   "id": "aa09eb8f",
   "metadata": {},
   "outputs": [],
   "source": [
    "def db_dict(e, h, Psi_dict=None):\n",
    "    e.MakeVariable()\n",
    "    h.MakeVariable()\n",
    "    Psi_dict = generate_Psi_dict(e, h) if Psi_dict is None else Psi_dict\n",
    "    return {domain: {\"d\": -Psi.Diff(e), \"b\": -Psi.Diff(h)} for domain, Psi in Psi_dict.items()}"
   ]
  },
  {
   "cell_type": "markdown",
   "id": "63e76371",
   "metadata": {},
   "source": [
    "# Loads\n",
    "\n",
    "The only loading comes from a prescribed charge density in the electrode. For modling purposes we may assume\n",
    "the charge is equally distributed. In reality, this is of course not the case. In particular, for conductors\n",
    "one would expect that charges gather near the surface, not in the bulk. We will assess the validity of this \n",
    "modeling assumption a posteriori."
   ]
  },
  {
   "cell_type": "code",
   "execution_count": 351,
   "id": "7a56204f",
   "metadata": {},
   "outputs": [],
   "source": [
    "q = Parameter(0.0)\n",
    "\n",
    "h_infty = Parameter(0.0)\n",
    "gf_bc = GridFunction(fes)"
   ]
  },
  {
   "cell_type": "markdown",
   "id": "08191c33",
   "metadata": {},
   "source": [
    "# Govering potential"
   ]
  },
  {
   "cell_type": "code",
   "execution_count": 352,
   "id": "32f48f35",
   "metadata": {},
   "outputs": [],
   "source": [
    "Pi = BilinearForm(fes, symmetric=True)\n",
    "Pi += Variation(\n",
    "    sum([Psi * dx(domain) for domain, Psi in generate_Psi_dict(e(phi), h(phi_m)).items()])\n",
    "    + (-phi * q * dx(ELECTRODE))\n",
    ")"
   ]
  },
  {
   "cell_type": "code",
   "execution_count": 353,
   "id": "3c01e0dc",
   "metadata": {},
   "outputs": [],
   "source": [
    "# Create the vector holding the discrete variation\n",
    "rhs = gfsol.vec.CreateVector()\n",
    "\n",
    "# Compute the variation; evaluate with the data of gfu\n",
    "Pi.Apply(gfsol.vec, rhs)"
   ]
  },
  {
   "cell_type": "code",
   "execution_count": 354,
   "id": "b2061299",
   "metadata": {},
   "outputs": [
    {
     "data": {
      "text/plain": [
       "0.0"
      ]
     },
     "execution_count": 354,
     "metadata": {},
     "output_type": "execute_result"
    }
   ],
   "source": [
    "Norm(rhs)"
   ]
  },
  {
   "cell_type": "markdown",
   "id": "f6deda15",
   "metadata": {},
   "source": [
    "## Posprocessing equations"
   ]
  },
  {
   "cell_type": "code",
   "execution_count": 356,
   "id": "6ee56244",
   "metadata": {},
   "outputs": [],
   "source": [
    "pp_db_dict = db_dict(e(gf_phi), h(gf_phi_m))"
   ]
  },
  {
   "cell_type": "code",
   "execution_count": 322,
   "id": "aa196fa7",
   "metadata": {},
   "outputs": [],
   "source": [
    "vtk = VTKOutput(mesh, coefs=[gf_e, gf_d, gfphi], names=['gf_e', 'gf_d', 'gfphi'], filename = '/home/tellocam/CSE/NLCFP/Ex4/vtk_outputs/output')\n",
    "\n",
    "def pp():\n",
    "    gf_e.Interpolate(e(gfphi))\n",
    "    for domain, expr in pp_d_dict.items():\n",
    "        gf_d.Interpolate(expr, definedon=domain)\n",
    "    vtk.Do()"
   ]
  },
  {
   "cell_type": "markdown",
   "id": "a536f46a",
   "metadata": {},
   "source": [
    "# Run the problem"
   ]
  },
  {
   "cell_type": "code",
   "execution_count": 323,
   "id": "4795c771",
   "metadata": {},
   "outputs": [],
   "source": [
    "from ngsolve.solvers import Newton"
   ]
  },
  {
   "cell_type": "code",
   "execution_count": 324,
   "id": "9b3d9844",
   "metadata": {},
   "outputs": [
    {
     "data": {
      "application/vnd.jupyter.widget-view+json": {
       "model_id": "d71043188aae47bc98e6958355e98b4d",
       "version_major": 2,
       "version_minor": 0
      },
      "text/plain": [
       "WebGuiWidget(value={'gui_settings': {}, 'ngsolve_version': '6.2.2204', 'mesh_dim': 2, 'order2d': 2, 'order3d':…"
      ]
     },
     "metadata": {},
     "output_type": "display_data"
    }
   ],
   "source": [
    "gfphi.vec[:] = 0\n",
    "scene = Draw(gfphi)"
   ]
  },
  {
   "cell_type": "code",
   "execution_count": 325,
   "id": "6c261e59",
   "metadata": {},
   "outputs": [
    {
     "name": "stdout",
     "output_type": "stream",
     "text": [
      "Newton iteration  0\n",
      "err =  0.0\n",
      "\n",
      "load parameter val = 0.0\n",
      "\n",
      "Newton iteration  0\n",
      "err =  0.0141325292877771\n",
      "Newton iteration  1\n",
      "err =  7.502654329580973e-14\n",
      "\n",
      "load parameter val = 0.0005\n",
      "\n",
      "Newton iteration  0\n",
      "err =  0.014132529287777095\n",
      "Newton iteration  1\n",
      "err =  8.606919550616275e-14\n",
      "\n",
      "load parameter val = 0.001\n",
      "\n",
      "Newton iteration  0\n",
      "err =  0.0141325292877771\n",
      "Newton iteration  1\n",
      "err =  7.270451840811402e-14\n",
      "\n",
      "load parameter val = 0.0015\n",
      "\n",
      "Newton iteration  0\n",
      "err =  0.014132529287777099\n",
      "Newton iteration  1\n",
      "err =  7.800825877963889e-14\n",
      "\n",
      "load parameter val = 0.002\n",
      "\n",
      "Newton iteration  0\n",
      "err =  0.014132529287777097\n",
      "Newton iteration  1\n",
      "err =  8.179044617421094e-14\n",
      "\n",
      "load parameter val = 0.0025\n",
      "\n",
      "Newton iteration  0\n",
      "err =  0.014132529287777099\n",
      "Newton iteration  1\n",
      "err =  7.193042102840026e-14\n",
      "\n",
      "load parameter val = 0.003\n",
      "\n",
      "Newton iteration  0\n",
      "err =  0.01413252928777709\n",
      "Newton iteration  1\n",
      "err =  7.039542681726174e-14\n",
      "\n",
      "load parameter val = 0.0035\n",
      "\n",
      "Newton iteration  0\n",
      "err =  0.014132529287777102\n",
      "Newton iteration  1\n",
      "err =  8.346327337397576e-14\n",
      "\n",
      "load parameter val = 0.004\n",
      "\n",
      "Newton iteration  0\n",
      "err =  0.014132529287777106\n",
      "Newton iteration  1\n",
      "err =  7.93407272437929e-14\n",
      "\n",
      "load parameter val = 0.0045000000000000005\n",
      "\n",
      "Newton iteration  0\n",
      "err =  0.014132529287777093\n",
      "Newton iteration  1\n",
      "err =  8.632735705406888e-14\n",
      "\n",
      "load parameter val = 0.005\n",
      "\n"
     ]
    }
   ],
   "source": [
    "gfphi.vec[:] = 0\n",
    "for val in np.linspace(0, 5e-3, 11):\n",
    "    q.Set(val)\n",
    "    gf_bc.components[1].Set(h_infty * L, mesh.Boundaries(\"top\"))\n",
    "    success, niter = Newton(Pi, gfphi, inverse=\"pardiso\", dirichletvalues=gf_bc.vec)\n",
    "    if success != 0:\n",
    "        raise Exception(\"Newton did not converge\")\n",
    "        \n",
    "    pp()\n",
    "    \n",
    "    print(\"\\n\" + \"load parameter val = {0!s}\".format(val) + \"\\n\")\n",
    "    scene.Redraw()"
   ]
  },
  {
   "cell_type": "code",
   "execution_count": 326,
   "id": "e6de0be7",
   "metadata": {},
   "outputs": [
    {
     "data": {
      "application/vnd.jupyter.widget-view+json": {
       "model_id": "a6f91b242f9244079409dc2b117b9e64",
       "version_major": 2,
       "version_minor": 0
      },
      "text/plain": [
       "WebGuiWidget(value={'gui_settings': {}, 'ngsolve_version': '6.2.2204', 'mesh_dim': 2, 'order2d': 2, 'order3d':…"
      ]
     },
     "metadata": {},
     "output_type": "display_data"
    },
    {
     "data": {
      "application/vnd.jupyter.widget-view+json": {
       "model_id": "25ec0d35fde44e8a959ed529dc127474",
       "version_major": 2,
       "version_minor": 0
      },
      "text/plain": [
       "WebGuiWidget(value={'gui_settings': {}, 'ngsolve_version': '6.2.2204', 'mesh_dim': 2, 'order2d': 2, 'order3d':…"
      ]
     },
     "metadata": {},
     "output_type": "display_data"
    },
    {
     "data": {
      "application/vnd.jupyter.widget-view+json": {
       "model_id": "b2b713be038d43c5ab77ad072c509351",
       "version_major": 2,
       "version_minor": 0
      },
      "text/plain": [
       "WebGuiWidget(value={'gui_settings': {}, 'ngsolve_version': '6.2.2204', 'mesh_dim': 2, 'order2d': 2, 'order3d':…"
      ]
     },
     "metadata": {},
     "output_type": "display_data"
    },
    {
     "data": {
      "text/plain": [
       "BaseWebGuiScene"
      ]
     },
     "execution_count": 326,
     "metadata": {},
     "output_type": "execute_result"
    }
   ],
   "source": [
    "pp()\n",
    "Draw(gfphi)\n",
    "Draw(gf_e)\n",
    "Draw(gf_d)"
   ]
  },
  {
   "cell_type": "markdown",
   "id": "ad0db1a3",
   "metadata": {},
   "source": [
    "# TODO\n",
    "\n",
    " * Write phi, e and d to vtk files: The result should be one file per load step holding data for all three fields plus a \"master\" file (.pvd) to be opened with Paraview that lets the user walk through time steps.\n",
    " * Add dielectric circular inclusions in the elastomer as another material.\n",
    " * Add magnetostatics: the circular inclusions are linearly magnetic, everything else is nonmagnetic. The whole system is exposed to an external uniform magnetic field. Which boundary conditions represent the best approximation of this situation? We use $\\phi$"
   ]
  },
  {
   "cell_type": "code",
   "execution_count": null,
   "id": "472c59d3",
   "metadata": {},
   "outputs": [],
   "source": []
  }
 ],
 "metadata": {
  "kernelspec": {
   "display_name": "Python 3.8.10 ('venv': venv)",
   "language": "python",
   "name": "python3"
  },
  "language_info": {
   "codemirror_mode": {
    "name": "ipython",
    "version": 3
   },
   "file_extension": ".py",
   "mimetype": "text/x-python",
   "name": "python",
   "nbconvert_exporter": "python",
   "pygments_lexer": "ipython3",
   "version": "3.8.10"
  },
  "toc": {
   "base_numbering": 1,
   "nav_menu": {},
   "number_sections": true,
   "sideBar": true,
   "skip_h1_title": false,
   "title_cell": "Table of Contents",
   "title_sidebar": "Contents",
   "toc_cell": false,
   "toc_position": {},
   "toc_section_display": true,
   "toc_window_display": true
  },
  "vscode": {
   "interpreter": {
    "hash": "b13762830d5b1ad5d09e9c582d942228bf79b025683bb2ab50f4aec815ef5fab"
   }
  }
 },
 "nbformat": 4,
 "nbformat_minor": 5
}
