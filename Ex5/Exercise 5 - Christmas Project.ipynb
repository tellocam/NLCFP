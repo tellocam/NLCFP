{
 "cells": [
  {
   "attachments": {},
   "cell_type": "markdown",
   "id": "92b0447f",
   "metadata": {},
   "source": [
    "$$\n",
    "%\\newcommand{\\oneform}[1]{{\\vphantom{{#1}}}^{1}\\!{#1}{\\vphantom{#1}}}\n",
    "% \\newcommand{\\oneform}[1]{\\overset{1}{#1}{\\vphantom{#1}}}\n",
    "%\\newcommand{\\volform}[1]{{\\vphantom{{\\omega}}}^{#1}\\!{\\omega}{\\vphantom{\\omega}}}\n",
    "% \\newcommand{\\volform}[1]{\\overset{#1}{\\omega}{\\vphantom{\\omega}}}\n",
    "%\\renewcommand{\\vector}[1]{\\boldsymbol{#1}}\n",
    "% \\newcommand{\\curve}[1]{{#1}}\n",
    "% \\newcommand{\\fbasis}[1]{{d#1}}\n",
    "% \\newcommand{\\uprm}[1]{^{\\mathrm{#1}}}\n",
    "% \\newcommand{\\tensor}[1]{\\mathbf{#1}}\n",
    "% \\newcommand{\\norm}[1]{||#1||}\n",
    "$$\n",
    "\n",
    "# Overview\n",
    "\n",
    "The problem of interest is the coupled response of a soft spherical body that is exposed to electric\n",
    "and magnetic fields. The body is assumed to consists of an almost incompressible, elastic, linearly dielectric and \n",
    "(para)magnetic material.\n",
    "This problem has a rather simple setup but is representative enough for comparisons of computational performance.\n",
    "\n",
    "As a starting point, a FE implementation of the electro-mechanical problem is provided.\n",
    "The tasks of the project are given below the implementation."
   ]
  },
  {
   "cell_type": "markdown",
   "id": "664eb3a1",
   "metadata": {},
   "source": [
    "# Geometry"
   ]
  },
  {
   "cell_type": "code",
   "execution_count": 82,
   "id": "ffbb0b00",
   "metadata": {},
   "outputs": [],
   "source": [
    "from netgen.occ import *\n",
    "from netgen.webgui import Draw as DrawGeo\n",
    "import time"
   ]
  },
  {
   "cell_type": "code",
   "execution_count": 83,
   "id": "65577580",
   "metadata": {},
   "outputs": [],
   "source": [
    "import numpy as np"
   ]
  },
  {
   "cell_type": "code",
   "execution_count": 84,
   "id": "2c2e082d",
   "metadata": {},
   "outputs": [],
   "source": [
    "# NOTE: Below we exploit symmetry and thus only consider the 1st octant.\n",
    "R = 10\n",
    "r = 1"
   ]
  },
  {
   "cell_type": "code",
   "execution_count": 85,
   "id": "a608aa01",
   "metadata": {},
   "outputs": [],
   "source": [
    "octant = Box((0,0,0), (2*R, 2*R, 2*R))"
   ]
  },
  {
   "cell_type": "code",
   "execution_count": 86,
   "id": "e6d10b38",
   "metadata": {},
   "outputs": [],
   "source": [
    "everywhere = Sphere((0, 0, 0), R) * octant"
   ]
  },
  {
   "cell_type": "code",
   "execution_count": 87,
   "id": "57b0d41a",
   "metadata": {},
   "outputs": [],
   "source": [
    "body = Sphere((0, 0, 0), r) * octant"
   ]
  },
  {
   "cell_type": "code",
   "execution_count": 88,
   "id": "2f7eb6c0",
   "metadata": {},
   "outputs": [],
   "source": [
    "air = everywhere - body"
   ]
  },
  {
   "cell_type": "code",
   "execution_count": 89,
   "id": "b3b96669",
   "metadata": {},
   "outputs": [
    {
     "data": {
      "text/plain": [
       "<netgen.libngpy._NgOCC.TopoDS_Shape at 0x7f7c1cdb8a30>"
      ]
     },
     "execution_count": 89,
     "metadata": {},
     "output_type": "execute_result"
    }
   ],
   "source": [
    "body.mat(\"body\")\n",
    "air.mat(\"air\")"
   ]
  },
  {
   "cell_type": "code",
   "execution_count": 90,
   "id": "85ddd2b9",
   "metadata": {},
   "outputs": [],
   "source": [
    "all_space = Glue([body, air])"
   ]
  },
  {
   "cell_type": "code",
   "execution_count": 91,
   "id": "6e80c125",
   "metadata": {},
   "outputs": [],
   "source": [
    "for f in all_space.faces:\n",
    "    f.bc(\"outer\")\n",
    "    \n",
    "for f in body.faces:\n",
    "    f.bc(\"inner\")\n",
    "\n",
    "for f in all_space.faces[X < 1e-3]:\n",
    "    f.bc(\"YZ_symm\")\n",
    "    \n",
    "for f in all_space.faces[Y < 1e-3]:\n",
    "    f.bc(\"ZX_symm\")\n",
    "    \n",
    "for f in all_space.faces[Z < 1e-3]:\n",
    "    f.bc(\"XY_symm\")"
   ]
  },
  {
   "cell_type": "code",
   "execution_count": 92,
   "id": "635ae538",
   "metadata": {},
   "outputs": [],
   "source": [
    "body.maxh = r/3\n",
    "air.maxh = R/3"
   ]
  },
  {
   "cell_type": "code",
   "execution_count": 93,
   "id": "537eaf4b",
   "metadata": {},
   "outputs": [
    {
     "data": {
      "application/vnd.jupyter.widget-view+json": {
       "model_id": "9f30aa94a64040539bd4184f267db802",
       "version_major": 2,
       "version_minor": 0
      },
      "text/plain": [
       "WebGuiWidget(value={'ngsolve_version': 'Netgen x.x', 'mesh_dim': 3, 'mesh_center': [5.0, 4.999999999999999, 4.…"
      ]
     },
     "metadata": {},
     "output_type": "display_data"
    },
    {
     "data": {
      "text/plain": [
       "BaseWebGuiScene"
      ]
     },
     "execution_count": 93,
     "metadata": {},
     "output_type": "execute_result"
    }
   ],
   "source": [
    "DrawGeo(all_space)"
   ]
  },
  {
   "cell_type": "code",
   "execution_count": 94,
   "id": "59acb87b",
   "metadata": {},
   "outputs": [],
   "source": [
    "geo = OCCGeometry(all_space, dim=3)\n",
    "ngmesh = geo.GenerateMesh()"
   ]
  },
  {
   "cell_type": "code",
   "execution_count": 95,
   "id": "a423e5b9",
   "metadata": {},
   "outputs": [],
   "source": [
    "from ngsolve import *\n",
    "from ngsolve.webgui import Draw\n",
    "from ngsolve.nonlinearsolvers import Newton, NewtonSolver\n",
    "\n",
    "import pathlib"
   ]
  },
  {
   "cell_type": "code",
   "execution_count": 96,
   "id": "6e181eda",
   "metadata": {},
   "outputs": [
    {
     "data": {
      "application/vnd.jupyter.widget-view+json": {
       "model_id": "6dc3f75167c4477ab387f861a854228d",
       "version_major": 2,
       "version_minor": 0
      },
      "text/plain": [
       "WebGuiWidget(value={'gui_settings': {}, 'ngsolve_version': '6.2.2204', 'mesh_dim': 3, 'order2d': 2, 'order3d':…"
      ]
     },
     "metadata": {},
     "output_type": "display_data"
    },
    {
     "data": {
      "text/plain": [
       "BaseWebGuiScene"
      ]
     },
     "execution_count": 96,
     "metadata": {},
     "output_type": "execute_result"
    }
   ],
   "source": [
    "mesh = Mesh(ngmesh)\n",
    "#mesh.Refine()\n",
    "mesh.Curve(3)\n",
    "Draw(mesh)"
   ]
  },
  {
   "cell_type": "code",
   "execution_count": 97,
   "id": "58b9eb57",
   "metadata": {},
   "outputs": [
    {
     "name": "stdout",
     "output_type": "stream",
     "text": [
      "('body', 'air')\n"
     ]
    }
   ],
   "source": [
    "print(mesh.GetMaterials())"
   ]
  },
  {
   "cell_type": "code",
   "execution_count": 98,
   "id": "dddab45a",
   "metadata": {},
   "outputs": [
    {
     "name": "stdout",
     "output_type": "stream",
     "text": [
      "('inner', 'YZ_symm', 'XY_symm', 'ZX_symm', 'outer', 'YZ_symm', 'XY_symm', 'ZX_symm')\n"
     ]
    }
   ],
   "source": [
    "print(mesh.GetBoundaries())"
   ]
  },
  {
   "cell_type": "code",
   "execution_count": 99,
   "id": "72da253b",
   "metadata": {},
   "outputs": [],
   "source": [
    "AIR = mesh.Materials(\"air\")\n",
    "BODY = mesh.Materials(\"body\")"
   ]
  },
  {
   "cell_type": "markdown",
   "id": "5109f384",
   "metadata": {},
   "source": [
    "# Function spaces and grid functions"
   ]
  },
  {
   "cell_type": "markdown",
   "id": "86eb99ef",
   "metadata": {},
   "source": [
    "*A note on boundary conditions*:\n",
    "\n",
    "We assume that the body of interest is exposed to spatially uniform external electric and magnetic fields\n",
    "in vertical directions. This will be implemented via a natural boundary condition on the outer boundary. \n",
    "Symmetry conditions follow from the loading direction."
   ]
  },
  {
   "cell_type": "code",
   "execution_count": 100,
   "id": "4e5825e9",
   "metadata": {},
   "outputs": [],
   "source": [
    "p_order = 3\n",
    "\n",
    "fes_u = VectorH1(mesh, order=p_order, \n",
    "                 dirichletx=\"outer|YZ_symm\", \n",
    "                 dirichlety=\"outer|ZX_symm\",\n",
    "                 dirichletz=\"outer|XY_symm\")\n",
    "\n",
    "fes_phi = H1(mesh, order=p_order, dirichlet=\"XY_symm\")\n",
    "\n",
    "fes = fes_u * fes_phi\n",
    "\n",
    "u, phi = fes.TrialFunction()\n",
    "\n",
    "gfsol = GridFunction(fes)\n",
    "gfu, gfphi = gfsol.components"
   ]
  },
  {
   "cell_type": "markdown",
   "id": "a5457e96",
   "metadata": {},
   "source": [
    "## Spaces and grid functions for postprocessing\n",
    "\n",
    "While function spaces for variables of the boundary value problem have to be chosen with some care (in the near future a lecture will present some useful guidelines), for postprocessing `L2` spaces are usually a good choice.\n",
    "They make the least assumptions on inter-element continuity and differentiability such that they usually provide \n",
    "the most faithful representation of simulation results.\n",
    "Remains the polynomial degree: a reasonable but not necessary choice is to use the same polynomial degree\n",
    "that appears in the *input* of the expression to be investigated."
   ]
  },
  {
   "cell_type": "markdown",
   "id": "1f69cbf7",
   "metadata": {},
   "source": [
    "### Electric field"
   ]
  },
  {
   "cell_type": "code",
   "execution_count": 101,
   "id": "a0dc8273",
   "metadata": {},
   "outputs": [],
   "source": [
    "# E is a function of the derivatives of phi but not phi directly. \n",
    "# Thus, for it's a polynomial degree one may choose that of phi minus 1.\n",
    "fes_E = VectorL2(mesh, order=p_order-1)\n",
    "\n",
    "# The gridfunction storing the actual value of the Eulerian electric field - e eulerian, E Lagrangian\n",
    "gfe = GridFunction(fes_E)\n",
    "\n",
    "# The external part - In the end I Will understand hehehh\n",
    "gfe_ext = GridFunction(fes_E)\n",
    "\n",
    "# Stores the Lagrangian electric field\n",
    "gfE = GridFunction(fes_E)"
   ]
  },
  {
   "cell_type": "markdown",
   "id": "f368d483",
   "metadata": {},
   "source": [
    "### Electric flux density (electric displacement)\n",
    "\n",
    "Since the electric flux density is obtained as the derivative of the electrostatic coenergy, which depends on the electric field, we reuse `fes_E`. One might argue that it could also depend on the deformation and thus ahigher polynomial degree would be better. This is essentially true, but the question is also, how precise the postprocessing data must be."
   ]
  },
  {
   "cell_type": "code",
   "execution_count": 102,
   "id": "e9a2264f",
   "metadata": {},
   "outputs": [],
   "source": [
    "# Eulrian\n",
    "gfd = GridFunction(fes_E)\n",
    "\n",
    "# Lagrangian\n",
    "gfD = GridFunction(fes_E)"
   ]
  },
  {
   "cell_type": "markdown",
   "id": "1f73c1ef",
   "metadata": {},
   "source": [
    "### Stress\n",
    "\n",
    "Here essentially the same aplies as before. The main inputs to stress (in the present formulation of the problem) are only derivatives of the primary variables. Thus we again employ a lower-order space., but this time matrix-valued."
   ]
  },
  {
   "cell_type": "code",
   "execution_count": 103,
   "id": "401d7c22",
   "metadata": {},
   "outputs": [],
   "source": [
    "fes_s = MatrixValued(L2(mesh, order=p_order-1))\n",
    "\n",
    "# We want the \"Cauchy-type\" total stress -> \"sigma\"\n",
    "gfsigma = GridFunction(fes_s)\n",
    "\n",
    "# The surface force density per referential area\n",
    "gfPK1 = GridFunction(fes_s) # first piola kirchhof Tensor! not symmetric"
   ]
  },
  {
   "cell_type": "markdown",
   "id": "5cf6570c",
   "metadata": {},
   "source": [
    "### Tangent map\n",
    "\n",
    "Reuse `fes_s`"
   ]
  },
  {
   "cell_type": "code",
   "execution_count": 104,
   "id": "f52ec459",
   "metadata": {},
   "outputs": [],
   "source": [
    "gfF = GridFunction(fes_s)"
   ]
  },
  {
   "cell_type": "markdown",
   "id": "02bcdd56",
   "metadata": {},
   "source": [
    "### Collect grid functions"
   ]
  },
  {
   "cell_type": "code",
   "execution_count": 105,
   "id": "459234df",
   "metadata": {},
   "outputs": [],
   "source": [
    "pp_gf_dict = {\n",
    "    \"u\": gfu,\n",
    "    \"phi\": gfphi,\n",
    "    \"F\": gfF,\n",
    "    \"E\": gfE,\n",
    "    \"e\": gfe,\n",
    "    \"e_ext\": gfe_ext,\n",
    "    \"D\": gfD,\n",
    "    \"d\": gfd,\n",
    "    \"PK1\": gfPK1,\n",
    "    \"sigma\": gfsigma,\n",
    "}"
   ]
  },
  {
   "cell_type": "markdown",
   "id": "32aea612",
   "metadata": {},
   "source": [
    "# Kinematics"
   ]
  },
  {
   "cell_type": "code",
   "execution_count": 106,
   "id": "82180013",
   "metadata": {},
   "outputs": [],
   "source": [
    "I = Id(mesh.dim) # Retruns the 3x3 identity matrix\n",
    "\n",
    "def F(u):\n",
    "    return I + Grad(u)\n",
    "\n",
    "\n",
    "def Cof(F):\n",
    "    return Det(F) * Inv(F)\n",
    "\n",
    "\n",
    "def InvCof(F):\n",
    "    return 1/Det(F) * F\n",
    "\n",
    "\n",
    "# The right Cauchy Green tensor (metric can be omitted for brevity) this the big fat dot???????? \n",
    "g = I\n",
    "def C(F):\n",
    "    return F.trans * g * F\n",
    "\n",
    "# The external electric field CF is a coefficient function expression, Dear matthias you are a good coder! (0, 0, 0)\n",
    "e_ext = CF(tuple(Parameter(0) for ii in range(mesh.dim)))\n",
    "\n",
    "# The Lagrangian electric (self) field\n",
    "def E(phi):\n",
    "    return -Grad(phi)"
   ]
  },
  {
   "cell_type": "markdown",
   "id": "f119110d",
   "metadata": {},
   "source": [
    "## Neo-Hookean material"
   ]
  },
  {
   "cell_type": "code",
   "execution_count": 107,
   "id": "8da4e4f7",
   "metadata": {},
   "outputs": [],
   "source": [
    "# E_... -> Young's modulus\n",
    "E_air, nu_air = Parameter(0.001), Parameter(0.2)\n",
    "E_body, nu_body = Parameter(0.1), Parameter(0.499)\n",
    "\n",
    "# shorthands\n",
    "I_C = Trace\n",
    "III_C = Det\n",
    "\n",
    "def Psi_NH(C, E, nu):\n",
    "    mu  = E / 2 / (1+nu) # shear modulus\n",
    "    lam = E * nu / ((1+nu)*(1-2*nu))\n",
    "    \n",
    "    # NOTE: we use I_C(C), III_C(C)...\n",
    "    return mu/2 * (I_C(C) - 3 - log(III_C(C))) + lam/8 * (log(III_C(C)))**2"
   ]
  },
  {
   "cell_type": "markdown",
   "id": "c0174112",
   "metadata": {},
   "source": [
    "## Electrostatic energy density"
   ]
  },
  {
   "cell_type": "code",
   "execution_count": 108,
   "id": "1fe6aa15",
   "metadata": {},
   "outputs": [],
   "source": [
    "epsilon_0 = 8.854*1e-6 # permittivity of vacuum in units corresponding to [E] = MV/m and [D] = C/m^2\n",
    "epsilon_r_body = Parameter(5) # 5 times as \"permitting\" as vacuum \n",
    "epsilon_r_air = Parameter(1) # air treated as vacuum in terms of permittivity\n",
    "# The right Cauchy Green Tensor \"describes\" the shape, therefore involved in the ES functional.\n",
    "def Psi_ES(C, E, epsilon_r):\n",
    "    J = sqrt(III_C(C)) # Be careful if one uses C or F as arg of III_C\n",
    "    return -1/2 * epsilon_0 * epsilon_r * InnerProduct(Inv(C) * E, E) * J\n",
    "# InnerProduct in NGSolve here is row column multiplication -> classical dot product\n",
    "# if no deformation involved, no C involved in Psi_ES, connected to the Lie-Rates -> coming lectures."
   ]
  },
  {
   "cell_type": "markdown",
   "id": "c15224cb",
   "metadata": {},
   "source": [
    "## Combined"
   ]
  },
  {
   "cell_type": "code",
   "execution_count": 109,
   "id": "ac133523",
   "metadata": {},
   "outputs": [],
   "source": [
    "def generate_Psi_dict(C, E):\n",
    "    return {AIR: Psi_ES(C, E, epsilon_r_air) + Psi_NH(C, E_air, nu_air), \n",
    "            BODY: Psi_ES(C, E, epsilon_r_body) + Psi_NH(C, E_body, nu_body),}"
   ]
  },
  {
   "cell_type": "markdown",
   "id": "29419106",
   "metadata": {},
   "source": [
    "Put things in a dict for having them accessible by domain name."
   ]
  },
  {
   "cell_type": "markdown",
   "id": "f8e87786",
   "metadata": {},
   "source": [
    "## Postprocessing definitions"
   ]
  },
  {
   "cell_type": "code",
   "execution_count": 110,
   "id": "76e46d0a",
   "metadata": {},
   "outputs": [],
   "source": [
    "def generate_pp_dict(F, E, Psi_dict=None): # capital pi\n",
    "    F.MakeVariable() # Needed to take derivatives of expressions with respects to it!\n",
    "    E.MakeVariable() \n",
    "    J = Det(F) #???\n",
    "    Psi_dict = generate_Psi_dict(C(F), E) if Psi_dict is None else Psi_dict\n",
    "    pp_dict = {\n",
    "        \"E\": E,\n",
    "        \"e\": Inv(F.trans) * E, \n",
    "        \"e_ext\": e_ext,\n",
    "        \"F\": F,\n",
    "        \"D\": {domain: -Psi.Diff(E) for domain, Psi in Psi_dict.items()},\n",
    "        \"d\": {domain: -InvCof(F) * Psi.Diff(E) for domain, Psi in Psi_dict.items()}, \n",
    "        \"PK1\": {domain: Psi.Diff(F) for domain, Psi in Psi_dict.items()},\n",
    "        \"sigma\": {domain: Psi.Diff(F)*InvCof(F).trans for domain, Psi in Psi_dict.items()},\n",
    "    }\n",
    "    return {kk: ({k2: v2.Compile() for k2, v2 in vv.items()} if isinstance(vv, dict) else vv.Compile()) # k = keys, v = values\n",
    "            for kk, vv in pp_dict.items()} # its good code yes..\n"
   ]
  },
  {
   "cell_type": "code",
   "execution_count": 111,
   "id": "521afc5e",
   "metadata": {},
   "outputs": [],
   "source": [
    "# a \"dict\" again...\n",
    "pp_dict = generate_pp_dict(F(gfu), E(gfphi))"
   ]
  },
  {
   "cell_type": "code",
   "execution_count": 112,
   "id": "ab877356",
   "metadata": {},
   "outputs": [],
   "source": [
    "def pp(pp_gf_dict, pp_dict, vtk, time=None): # pp = postprocessing\n",
    "    # interpolate - yes only interpolate, barely an inconvenience\n",
    "    for key, value in pp_gf_dict.items():\n",
    "        if key in pp_dict:\n",
    "            if isinstance(pp_dict[key], dict):\n",
    "                for domain, expr in pp_dict[key].items():\n",
    "                    value.Interpolate(expr, definedon=domain)\n",
    "            else:\n",
    "                value.Interpolate(pp_dict[key])\n",
    "    vtk.Do(time=time)"
   ]
  },
  {
   "attachments": {},
   "cell_type": "markdown",
   "id": "08191c33",
   "metadata": {},
   "source": [
    "# Govering potential - FInally some NGSOlve :-)"
   ]
  },
  {
   "cell_type": "code",
   "execution_count": 113,
   "id": "32f48f35",
   "metadata": {},
   "outputs": [],
   "source": [
    "Pi = BilinearForm(fes, symmetric=True)\n",
    "_F = F(u) # u is trialfunction\n",
    "Pi += Variation(\n",
    "    sum([Psi.Compile() * dx(domain) for domain, Psi in generate_Psi_dict(C(F(u)), E(phi)).items()])\n",
    "    #All the Energydensity Integrals over all domains.\n",
    ").Compile() \n",
    "\n",
    "N = specialcf.normal(mesh.dim)\n",
    "Pi += Variation(phi * epsilon_0 * e_ext * N * ds(mesh.Boundaries(\"outer\"))).Compile()"
   ]
  },
  {
   "cell_type": "code",
   "execution_count": 114,
   "id": "3c01e0dc",
   "metadata": {},
   "outputs": [
    {
     "name": "stdout",
     "output_type": "stream",
     "text": [
      "12736\n"
     ]
    }
   ],
   "source": [
    "# Create the vector holding the discrete variation\n",
    "rhs = gfsol.vec.CreateVector()\n",
    "\n",
    "e_ext[2].Set(0)\n",
    "gfsol.vec[:] = 0 # Could very well be that we dont need this. \n",
    "\n",
    "# Compute the variation; evaluate with the data of gfu\n",
    "Pi.Apply(gfsol.vec, rhs) #.Applies Variational Formulation to an input vector and returns the result\n",
    "\n",
    "#help(BilinearForm)\n",
    "print(gfsol.space.ndof)"
   ]
  },
  {
   "cell_type": "code",
   "execution_count": 115,
   "id": "b2061299",
   "metadata": {},
   "outputs": [
    {
     "data": {
      "text/plain": [
       "0.0"
      ]
     },
     "execution_count": 115,
     "metadata": {},
     "output_type": "execute_result"
    }
   ],
   "source": [
    "Norm(rhs)"
   ]
  },
  {
   "cell_type": "markdown",
   "id": "fbecee11",
   "metadata": {},
   "source": [
    "## A modified version that does not suffer from spurious deformation"
   ]
  },
  {
   "cell_type": "code",
   "execution_count": 116,
   "id": "69f0342e",
   "metadata": {},
   "outputs": [],
   "source": [
    "# interface dofs:\n",
    "mech_interface_dofs = np.array(fes.GetDofs(mesh.Boundaries(\"inner\")))\n",
    "mag_dof_range = fes.Range(1)\n",
    "mech_interface_dofs[np.arange(mag_dof_range.start, mag_dof_range.stop, mag_dof_range.step)] = False\n",
    "interface_dofs = np.where(mech_interface_dofs)[0]\n",
    "\n",
    "# The governing potential. This time, we do not assume symmetry because we'll apply a modification to\n",
    "# the resulting matrix that renders the system non-symmetric.\n",
    "Pi_mod = BilinearForm(fes, symmetric=False)\n",
    "Pi_mod += Variation(\n",
    "    sum([Psi.Compile() * dx(domain) for domain, Psi in generate_Psi_dict(C(F(u)), E(phi)).items()])\n",
    ")\n",
    "N = specialcf.normal(mesh.dim)\n",
    "Pi_mod += Variation(phi * epsilon_0 * e_ext * N * ds(mesh.Boundaries(\"outer\")))\n",
    "\n",
    "# The (neg.) *mechanical* contribution of the air at the interface. Note the \"CF((0,0,0))\"\n",
    "# in the expression below, which effectly forces the electrostatic contribution to zero.\n",
    "Pi_interface = BilinearForm(fes, symmetric=False)\n",
    "Pi_interface += Variation(\n",
    "    sum([(-Psi).Compile() * dx(domain) for domain, Psi in generate_Psi_dict(C(_F), CF((0,0,0))).items() \n",
    "         if domain == AIR])\n",
    ")\n",
    "\n",
    "\n",
    "class BFWrapper: # BFW is a cool name for a rapper - uses static condensation / schauder complement to get inverse\n",
    "    def __init__(self, a, a_interface, interface_dofs, gfsol):\n",
    "        self._a = a\n",
    "        self._a_interface = a_interface\n",
    "        \n",
    "        if self._a.condense or self._a_interface.condense:\n",
    "            raise ValueError(\"Static condensation not supported.\")\n",
    "        \n",
    "        self._interface_dofs = interface_dofs\n",
    "        self._u = gfsol\n",
    "        self._interface_indices = None\n",
    "        self._r_interface = gfsol.vec.CreateVector()\n",
    "    \n",
    "    @property\n",
    "    def mat(self):\n",
    "        return self._a.mat\n",
    "    \n",
    "    @property\n",
    "    def condense(self):\n",
    "        return self._a.condense\n",
    "    \n",
    "    def _setup_interface_data(self, force=False):\n",
    "        if self._interface_indices is None or force:\n",
    "            try:\n",
    "                mrows, mcols, ivals = self._a_interface.mat.COO()\n",
    "                mrows_np = mrows.NumPy()\n",
    "                print(\"\\nexpensive, non-optimal operation (but only once)...\")\n",
    "                self._interface_indices = np.hstack([np.where(mrows_np == d) for d in self._interface_dofs]).flatten()\n",
    "                print(\"...done\\n\")\n",
    "                self._mat_as_vec = self._a.mat.AsVector().FV().NumPy()\n",
    "                self._mat_i_as_vec = self._a_interface.mat.AsVector().FV().NumPy()\n",
    "            except TypeError as e:\n",
    "                self._a.AssembleLinearization(self._u.vec)\n",
    "                self._a_interface.AssembleLinearization(self._u.vec)\n",
    "                self._setup_interface_data()\n",
    "    \n",
    "    def Apply(self, vec, rhs):\n",
    "        self._setup_interface_data()\n",
    "        self._a.Apply(vec, rhs)\n",
    "        self._a_interface.Apply(vec, self._r_interface)\n",
    "        rhs.FV().NumPy()[self._interface_dofs] += self._r_interface.FV().NumPy()[self._interface_dofs]\n",
    "    \n",
    "    def AssembleLinearization(self, vec):\n",
    "        self._a.AssembleLinearization(vec)\n",
    "        self._a_interface.AssembleLinearization(vec)\n",
    "        self._setup_interface_data()\n",
    "        self._mat_as_vec[self._interface_indices] += self._mat_i_as_vec[self._interface_indices]"
   ]
  },
  {
   "cell_type": "code",
   "execution_count": 117,
   "id": "a0f2a42b",
   "metadata": {},
   "outputs": [],
   "source": [
    "Pi2 = BFWrapper(Pi_mod, Pi_interface, interface_dofs, gfsol)"
   ]
  },
  {
   "cell_type": "markdown",
   "id": "a536f46a",
   "metadata": {},
   "source": [
    "# Run the problem"
   ]
  },
  {
   "cell_type": "code",
   "execution_count": 118,
   "id": "09f2ce4e",
   "metadata": {},
   "outputs": [],
   "source": [
    "e_ext[2].Set(0)\n",
    "gfsol.vec[:] = 0\n",
    "gfsol_ba = GridFunction(gfsol.space) # ba?"
   ]
  },
  {
   "cell_type": "code",
   "execution_count": 119,
   "id": "b8922445",
   "metadata": {},
   "outputs": [],
   "source": [
    "_Pi = Pi2\n",
    "E_body.Set(0.05)\n",
    "E_air.Set(E_body.Get())  # why set the Young´s Moduli equal?\n",
    "odir = pathlib.Path(\"output2\")\n",
    "\n",
    "# otherwise\n",
    "# _Pi = Pi\n",
    "# E_body.Set(0.05)\n",
    "# E_air.Set(E_body.Get() / 100) # --> will fail due to excessive spurious deformation in air domain\n",
    "# odir = pathlib.Path(\"output\")\n",
    "\n",
    "odir.mkdir(exist_ok=True)\n",
    "vtk = VTKOutput(\n",
    "    mesh,\n",
    "    coefs=list(pp_gf_dict.values()),\n",
    "    names=list(pp_gf_dict.keys()),\n",
    "    subdivision=2,\n",
    "    filename=str(odir / \"output\")\n",
    ")\n"
   ]
  },
  {
   "cell_type": "code",
   "execution_count": 120,
   "id": "b032ab0b",
   "metadata": {},
   "outputs": [],
   "source": [
    "def run_load_step(dz):\n",
    "    #with TaskManager(pajetrace=10**8):\n",
    "    with TaskManager(pajetrace=10**8):\n",
    "    \n",
    "        e_ext[2].Set(dz)\n",
    "        print(f\"\\ntrying to solve for load parameter val = {str(dz)}...\\n\")\n",
    "        #success, niter = Newton(_Pi, gfsol, inverse=\"pardiso\", maxit=15)\n",
    "        success, niter = Newton(_Pi, gfsol, inverse=\"sparsecholesky\", maxit=15)\n",
    "        #success, niter = Newton(_Pi, gfsol, maxit=15)\n",
    "        if success != 0:\n",
    "            raise Exception(\"Newton did not converge\")\n",
    "            \n",
    "        c = Preconditioner(Pi, \"local\") # 'Register' c to a BEFORE assembly\n",
    "        # Pi.AssembleLinearization(gfsol.vec)\n",
    "        # inv = CGSolver(Pi.mat, c.mat, maxsteps=1000) # CGMethod not possible, GMRES with preconditioner\n",
    "\n",
    "\n",
    "        pp(pp_gf_dict, pp_dict, vtk, time=dz)\n",
    "        gfsol_ba.vec.data = gfsol.vec # ba -> backup, happens sometimes that doesnt converge, wanna have the last state to recover.\n",
    "\n",
    "        print(f\"\\nsuccessfully solved for load parameter dz = {str(dz)}\")\n",
    "        print(f\"z-displacement at (0,0,r) = {gfu(mesh(0,0,r))[2]:e}\")\n",
    "        print(\"\\n{:s}\\n\".format(\"-\" * 80))"
   ]
  },
  {
   "cell_type": "code",
   "execution_count": 121,
   "id": "6c261e59",
   "metadata": {
    "scrolled": true
   },
   "outputs": [
    {
     "name": "stdout",
     "output_type": "stream",
     "text": [
      "\n",
      "trying to solve for load parameter val = 0.0...\n",
      "\n",
      "Newton iteration  0\n",
      "\n",
      "expensive, non-optimal operation (but only once)...\n",
      "...done\n",
      "\n",
      "err =  0.0\n",
      "\n",
      "successfully solved for load parameter dz = 0.0\n",
      "z-displacement at (0,0,r) = 0.000000e+00\n",
      "\n",
      "--------------------------------------------------------------------------------\n",
      "\n",
      "\n",
      "trying to solve for load parameter val = 3.3333333333333335...\n",
      "\n",
      "Newton iteration  0\n",
      "err =  0.22677157581056792\n",
      "Newton iteration  1\n",
      "err =  5.6608661844326764e-05\n",
      "Newton iteration  2\n",
      "err =  0.0038718965774397042\n",
      "Newton iteration  3\n",
      "err =  0.2624489794936902\n",
      "Newton iteration  4\n",
      "err =  2.485129272505468\n",
      "Newton iteration  5\n",
      "err =  33.2616271611519\n",
      "Newton iteration  6\n",
      "err =  122026.33757519191\n",
      "Newton iteration  7\n",
      "err =  693414.5547982788\n",
      "Newton iteration  8\n",
      "err =  359422.02287570894\n",
      "Newton iteration  9\n",
      "err =  20580994.1937283\n",
      "Newton iteration  10\n",
      "err =  1423844218.8365667\n",
      "Newton iteration  11\n",
      "err =  8756523854.641968\n",
      "Newton iteration  12\n",
      "err =  12736089348.097982\n",
      "Newton iteration  13\n",
      "err =  3338658039424.7056\n",
      "Newton iteration  14\n",
      "err =  22039798212977.113\n",
      "Warning: Newton might not converge! Error =  22039798212977.113\n"
     ]
    },
    {
     "ename": "Exception",
     "evalue": "Newton did not converge",
     "output_type": "error",
     "traceback": [
      "\u001b[0;31m---------------------------------------------------------------------------\u001b[0m",
      "\u001b[0;31mException\u001b[0m                                 Traceback (most recent call last)",
      "Cell \u001b[0;32mIn [121], line 4\u001b[0m\n\u001b[1;32m      2\u001b[0m start \u001b[39m=\u001b[39m time\u001b[39m.\u001b[39mtime()\n\u001b[1;32m      3\u001b[0m \u001b[39mfor\u001b[39;00m val \u001b[39min\u001b[39;00m np\u001b[39m.\u001b[39mlinspace(\u001b[39m0\u001b[39m, \u001b[39m10\u001b[39m, \u001b[39m4\u001b[39m):\n\u001b[0;32m----> 4\u001b[0m     run_load_step(val)\n\u001b[1;32m      5\u001b[0m elapsed_time \u001b[39m=\u001b[39m time\u001b[39m.\u001b[39mtime() \u001b[39m-\u001b[39m start\n",
      "Cell \u001b[0;32mIn [120], line 9\u001b[0m, in \u001b[0;36mrun_load_step\u001b[0;34m(dz)\u001b[0m\n\u001b[1;32m      7\u001b[0m \u001b[39m#success, niter = Newton(_Pi, gfsol, maxit=15)\u001b[39;00m\n\u001b[1;32m      8\u001b[0m \u001b[39mif\u001b[39;00m success \u001b[39m!=\u001b[39m \u001b[39m0\u001b[39m:\n\u001b[0;32m----> 9\u001b[0m     \u001b[39mraise\u001b[39;00m \u001b[39mException\u001b[39;00m(\u001b[39m\"\u001b[39m\u001b[39mNewton did not converge\u001b[39m\u001b[39m\"\u001b[39m)\n\u001b[1;32m     11\u001b[0m c \u001b[39m=\u001b[39m Preconditioner(Pi, \u001b[39m\"\u001b[39m\u001b[39mlocal\u001b[39m\u001b[39m\"\u001b[39m) \u001b[39m# 'Register' c to a BEFORE assembly\u001b[39;00m\n\u001b[1;32m     12\u001b[0m \u001b[39m# Pi.AssembleLinearization(gfsol.vec)\u001b[39;00m\n\u001b[1;32m     13\u001b[0m \u001b[39m# inv = CGSolver(Pi.mat, c.mat, maxsteps=1000) # CGMethod not possible, GMRES with preconditioner\u001b[39;00m\n",
      "\u001b[0;31mException\u001b[0m: Newton did not converge"
     ]
    }
   ],
   "source": [
    "SetNumThreads(20)\n",
    "start = time.time()\n",
    "for val in np.linspace(0, 10, 4):\n",
    "    run_load_step(val)\n",
    "elapsed_time = time.time() - start\n",
    "\n",
    "# print(elapsed_time)\n",
    "\n",
    "#loadstep(0,30,5) and  maxh = r/4 -> no convergence\n",
    "#loadstep(0,30m,7) maxh = r/6 -> elapsed time = 81 seconds..\n",
    "#loadstep(0,10,4) maxh = r/3 -> elapsed time = 9.227369785308838\n",
    "#loadstep(0,10,4) maxh = r/4 -> elapsed time = 18.688396453857422\n",
    "#loadstep(0,10,4) maxh = r/5 -> elapsed time = 23.64073395729065\n",
    "#loadstep(0,10,4) maxh = r/6 -> elapsed time = 42.09492039680481\n",
    "#loadstep(0,10,4) maxh = r/7 -> elapsed time = 80.42692923545837\n",
    "#loadstep(0,10,4) maxh = r/7 -> elapsed time = 155.19630765914917\n",
    "\n",
    "\n",
    "\n"
   ]
  },
  {
   "attachments": {},
   "cell_type": "markdown",
   "id": "4ab9554f",
   "metadata": {},
   "source": [
    "# Tasks\n",
    "\n",
    "NOTE: Choose the tasks that you find most interesting and try to spend something around 3 hours in total on implementation, computations and processing of results. Do not hesitate to ask for assistance when you got stuck.\n",
    "Unfinished tasks might be dealt with in forthcoming exercises.\n",
    "\n",
    "\n",
    "## Linear solvers for the coupled problem\n",
    "\n",
    "The default setting in the notebook is \"pardiso\", a direct solver. \n",
    "Try some iterative solvers (system is indefinite and non-symmetric) with preconditioning and \n",
    "play around with mesh resolution and polynomial degree.\n",
    "How do the methods perform in terms of computation time? Can you say some about the scaling of computation\n",
    "time wrt. to mesh resolution and polynomial degree.\n",
    "\n",
    "- Pardiso leads to bad results when in increasing the polynomial    \n",
    "degree and mesh resolution (Pardiso is hopefully non-direct Solver.)\n",
    "\n",
    "- Sparse-Cholesky does not converge for default Newton\n",
    "\n",
    "- Umfpack and Mumps not yet possible, need to compile NGSolve with it?\n",
    "\n",
    "## After Exercise Discussion\n",
    "\n",
    "- get the ndofs for all the sizes and redo the plots for the timings.\n",
    "\n",
    "- staggered scheme, use pardiso, dont use BFWrapper, if it works, maybe use iterative solver with precond\n",
    "\n",
    "- investigate the time-complexity payoff of staggered scheme and monolithic scheme (thats the old one)\n",
    "\n",
    "\n",
    "\n",
    "\n",
    "\n",
    "\n",
    "## \"Staggered\" solution scheme\n",
    "\n",
    "Separate the coupled problem in a purely mechanical and a purely electrostatic BVP. \n",
    "The subproblems can be obtained by something like:\n",
    "```\n",
    "Pi_mech = BilinearForm(fes_u, symmetric=True)\n",
    "Pi_mech += Variation(\n",
    "    sum([Psi.Compile() * dx(domain) for domain, Psi in generate_Psi_dict(C(F(u)), E(gfphi)).items()])\n",
    ")\n",
    "\n",
    "Pi_elec = BilinearForm(fes_phi, symmetric=True)\n",
    "Pi_elec += Variation(\n",
    "    sum([Psi.Compile() * dx(domain) for domain, Psi in generate_Psi_dict(C(F(gfu)), E(phi)).items()])\n",
    ")\n",
    "N = specialcf.normal(mesh.dim)\n",
    "Pi_elec += Variation(phi * epsilon_0 * e_ext * N * ds(mesh.Boundaries(\"outer\"))).Compile()\n",
    "```\n",
    "In this case, one also does not have to fear spurious deformation in air. In turn, the Youngs modulus `E_air` must be set to a very small value, e.g. `E_air.Set(E_body.Get() / 1000)` or even less.\n",
    "\n",
    "Then, these (in general) *nonlinear* \"subproblems\" are solved in an alternating manner until convergence (in coupled sense; sol solving one *nonlinear* problem does not perturb the other anymore).\n",
    "How does this perform in comparison with solving the coupled problem in a \"monolithic\" way.\n",
    "Data on scaling is important as well.\n",
    "\n",
    "\n",
    "Hint 1: It might be that you need to reduce load increments to achieve convergence!\n",
    "\n",
    "Hint 2: The (linearized) subproblems are much easier to solve! Maybe you find faster iterative and direct solvers.\n",
    "\n",
    "\n",
    "## Reformulation of the problem\n",
    "\n",
    "Reformulation the electrostatic part of the problem to the constrained minimization form (with $D$ and $\\phi$).\n",
    "Compare the \"direct\" implementation wia the corresponding Lagrangian (in optimization sense) function\n",
    "and an Augmented Lagrangian scheme. What does that mean for the choice of linear solvers in the Newton scheme?"
   ]
  },
  {
   "cell_type": "markdown",
   "id": "268ecae4",
   "metadata": {},
   "source": []
  }
 ],
 "metadata": {
  "kernelspec": {
   "display_name": "venv",
   "language": "python",
   "name": "python3"
  },
  "language_info": {
   "codemirror_mode": {
    "name": "ipython",
    "version": 3
   },
   "file_extension": ".py",
   "mimetype": "text/x-python",
   "name": "python",
   "nbconvert_exporter": "python",
   "pygments_lexer": "ipython3",
   "version": "3.8.10 (default, Jun 22 2022, 20:18:18) \n[GCC 9.4.0]"
  },
  "toc": {
   "base_numbering": 1,
   "nav_menu": {},
   "number_sections": true,
   "sideBar": true,
   "skip_h1_title": false,
   "title_cell": "Table of Contents",
   "title_sidebar": "Contents",
   "toc_cell": false,
   "toc_position": {
    "height": "calc(100% - 180px)",
    "left": "10px",
    "top": "150px",
    "width": "384px"
   },
   "toc_section_display": true,
   "toc_window_display": true
  },
  "vscode": {
   "interpreter": {
    "hash": "b13762830d5b1ad5d09e9c582d942228bf79b025683bb2ab50f4aec815ef5fab"
   }
  }
 },
 "nbformat": 4,
 "nbformat_minor": 5
}
