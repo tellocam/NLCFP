{
 "cells": [
  {
   "cell_type": "markdown",
   "metadata": {},
   "source": [
    "$$\n",
    "\\DeclareMathOperator\\tr{tr}\n",
    "\\DeclareMathOperator\\Tr{Tr}\n",
    "\\DeclareMathOperator\\dev{dev}\n",
    "\\DeclareMathOperator\\Dev{Dev}\n",
    "\\DeclareMathOperator\\sph{sph}\n",
    "\\DeclareMathOperator\\Sph{Sph}\n",
    "\\newcommand{\\bF}{\\mathbf{F}}\n",
    "\\newcommand{\\bC}{\\mathbf{C}}\n",
    "\\newcommand{\\bd}{\\mathbf{d}}\n",
    "\\newcommand{\\bc}{\\mathbf{c}}\n",
    "\\newcommand{\\bA}{\\mathbf{A}}\n",
    "\\newcommand{\\bS}{\\mathbf{S}}\n",
    "\\newcommand{\\Bsigma}{{\\boldsymbol{\\sigma}}}\n",
    "\\newcommand{\\pdiff}[2]{\\frac{\\partial#1}{\\partial#2}}\n",
    "\\nonumber\n",
    "$$"
   ]
  },
  {
   "cell_type": "markdown",
   "metadata": {},
   "source": [
    "# General Setup"
   ]
  },
  {
   "cell_type": "code",
   "execution_count": null,
   "metadata": {},
   "outputs": [],
   "source": [
    "%matplotlib nbagg"
   ]
  },
  {
   "cell_type": "code",
   "execution_count": null,
   "metadata": {},
   "outputs": [],
   "source": [
    "import numpy as np\n",
    "import matplotlib.pyplot as plt\n",
    "import time"
   ]
  },
  {
   "cell_type": "code",
   "execution_count": null,
   "metadata": {},
   "outputs": [],
   "source": [
    "from ngsolve import *\n",
    "from ngsolve.webgui import Draw\n",
    "from ngsolve.comp import IntegrationRuleSpace\n",
    "from netgen.csg import *\n",
    "from ngsolve.solvers import Newton"
   ]
  },
  {
   "cell_type": "code",
   "execution_count": null,
   "metadata": {},
   "outputs": [],
   "source": [
    "SetNumThreads(1)\n",
    "\n",
    "cube = OrthoBrick(Pnt(0,0,0), Pnt(1,1,1))\n",
    "geo = CSGeometry()\n",
    "geo.Add(cube)\n",
    "\n",
    "mesh = Mesh(geo.GenerateMesh(maxh=0.2, quad_dominated=False))\n",
    "#Draw(mesh)\n",
    "\n",
    "names = [ \"bottom\", \"back\", \"right\", \"front\", \"top\", \"left\", \"inner\" ]\n",
    "for i, name in enumerate(names):\n",
    "    mesh.ngmesh.SetBCName(i, name)\n",
    "print (mesh.GetBoundaries())\n",
    "\n",
    "d = mesh.dim"
   ]
  },
  {
   "cell_type": "code",
   "execution_count": null,
   "metadata": {},
   "outputs": [],
   "source": [
    "import numpy as np"
   ]
  },
  {
   "cell_type": "markdown",
   "metadata": {},
   "source": [
    "# Parameters"
   ]
  },
  {
   "cell_type": "code",
   "execution_count": null,
   "metadata": {},
   "outputs": [],
   "source": [
    "parameters = dict(\n",
    "    G=1,\n",
    "    Gprime_f=1e2,\n",
    ")"
   ]
  },
  {
   "cell_type": "code",
   "execution_count": null,
   "metadata": {},
   "outputs": [],
   "source": [
    "G = Parameter(parameters[\"G\"])\n",
    "Gprime_f = Parameter(parameters[\"Gprime_f\"])\n",
    "Gprime = Gprime_f * G"
   ]
  },
  {
   "cell_type": "markdown",
   "metadata": {},
   "source": [
    "# Energy functions"
   ]
  },
  {
   "cell_type": "code",
   "execution_count": null,
   "metadata": {},
   "outputs": [],
   "source": [
    "I = Id(d)"
   ]
  },
  {
   "cell_type": "code",
   "execution_count": null,
   "metadata": {},
   "outputs": [],
   "source": [
    "def C(F):\n",
    "    return F.trans * F\n",
    "\n",
    "\n",
    "def I_1(C):\n",
    "    return Trace(C)\n",
    "\n",
    "\n",
    "def I_3(C):\n",
    "    return Det(C)\n",
    "\n",
    "\n",
    "# \"Deviatoric\" part of energy density\n",
    "def Psi_dev(C, G):\n",
    "    return G/2 * (I_1(C) - d - log(I_3(C)))\n",
    "\n",
    "\n",
    "# Purely volumetric part of energy density\n",
    "def Psi_vol(C, G_prime):\n",
    "    return G_prime/2 * (sqrt(I_3(C)) - 1)**2\n",
    "\n",
    "\n",
    "def Psi(C, G, G_prime):\n",
    "    return Psi_dev(C, G) + Psi_vol(C, G_prime)"
   ]
  },
  {
   "cell_type": "code",
   "execution_count": null,
   "metadata": {},
   "outputs": [],
   "source": [
    "def Compile(cf, **options): \n",
    "    _realcompile = options.get(\"realcompile\", False)\n",
    "    return cf.Compile(realcompile=_realcompile)"
   ]
  },
  {
   "cell_type": "markdown",
   "metadata": {},
   "source": [
    "# A homogeneous BVP"
   ]
  },
  {
   "cell_type": "code",
   "execution_count": null,
   "metadata": {},
   "outputs": [],
   "source": [
    "fes_u = VectorH1(mesh, order=2, dirichletx=\"front\", dirichlety=\"left\", dirichletz=\"top|bottom\")"
   ]
  },
  {
   "cell_type": "code",
   "execution_count": null,
   "metadata": {},
   "outputs": [],
   "source": [
    "u, u_test = fes_u.TnT()"
   ]
  },
  {
   "cell_type": "code",
   "execution_count": null,
   "metadata": {},
   "outputs": [],
   "source": [
    "def F(u):\n",
    "    return I + Grad(u)\n",
    "\n",
    "gfu = GridFunction(fes_u)"
   ]
  },
  {
   "cell_type": "markdown",
   "metadata": {},
   "source": [
    "# Forms"
   ]
  },
  {
   "cell_type": "code",
   "execution_count": null,
   "metadata": {},
   "outputs": [],
   "source": [
    "energy_density = Psi(C(F(u)), G, Gprime)"
   ]
  },
  {
   "cell_type": "code",
   "execution_count": null,
   "metadata": {},
   "outputs": [],
   "source": [
    "a = BilinearForm(fes_u, symmetric=True)\n",
    "a += Variation(Compile(energy_density) * dx)"
   ]
  },
  {
   "cell_type": "code",
   "execution_count": null,
   "metadata": {},
   "outputs": [],
   "source": [
    "t = 0\n",
    "gfu.Set((0, 0, 0))\n",
    "delta_t = Parameter(0.1)"
   ]
  },
  {
   "cell_type": "markdown",
   "metadata": {},
   "source": [
    "# Run"
   ]
  },
  {
   "cell_type": "code",
   "execution_count": null,
   "metadata": {},
   "outputs": [],
   "source": [
    "u_top = Parameter(0)\n",
    "tol = 1e-10\n",
    "t = 0\n",
    "gfu.Set((0, 0, 0))\n",
    "dfu = GridFunction(fes_u)"
   ]
  },
  {
   "cell_type": "code",
   "execution_count": null,
   "metadata": {},
   "outputs": [],
   "source": [
    "def disp(t):\n",
    "    return t"
   ]
  },
  {
   "cell_type": "code",
   "execution_count": null,
   "metadata": {},
   "outputs": [],
   "source": [
    "while t < 1:\n",
    "    \n",
    "    with TaskManager(pajetrace=10**8):\n",
    "        \n",
    "        print()\n",
    "        print(\"t: \", t)\n",
    "        print(\"disp(t): \", disp(t))\n",
    "        dfu.Set((dfu[0], dfu[1], disp(t)), definedon=mesh.Boundaries(\"top\"))\n",
    "        ret = Newton(a, gfu, inverse=\"pardiso\", dirichletvalues=dfu.vec)\n",
    "        print(ret)\n",
    "        t += delta_t.Get()"
   ]
  },
  {
   "cell_type": "code",
   "execution_count": null,
   "metadata": {},
   "outputs": [],
   "source": [
    "Draw(gfu[2], mesh)"
   ]
  },
  {
   "cell_type": "code",
   "execution_count": null,
   "metadata": {},
   "outputs": [],
   "source": []
  }
 ],
 "metadata": {
  "kernelspec": {
   "display_name": "Python 3 (ipykernel)",
   "language": "python",
   "name": "python3"
  },
  "language_info": {
   "codemirror_mode": {
    "name": "ipython",
    "version": 3
   },
   "file_extension": ".py",
   "mimetype": "text/x-python",
   "name": "python",
   "nbconvert_exporter": "python",
   "pygments_lexer": "ipython3",
   "version": "3.10.5"
  },
  "latex_envs": {
   "LaTeX_envs_menu_present": true,
   "autoclose": false,
   "autocomplete": true,
   "bibliofile": "biblio.bib",
   "cite_by": "apalike",
   "current_citInitial": 1,
   "eqLabelWithNumbers": true,
   "eqNumInitial": 1,
   "hotkeys": {
    "equation": "Ctrl-E",
    "itemize": "Ctrl-I"
   },
   "labels_anchors": false,
   "latex_user_defs": false,
   "report_style_numbering": false,
   "user_envs_cfg": false
  },
  "toc": {
   "base_numbering": 1,
   "nav_menu": {},
   "number_sections": true,
   "sideBar": true,
   "skip_h1_title": false,
   "title_cell": "Table of Contents",
   "title_sidebar": "Contents",
   "toc_cell": false,
   "toc_position": {
    "height": "47.7167px",
    "left": "87px",
    "top": "134.133px",
    "width": "292.95px"
   },
   "toc_section_display": false,
   "toc_window_display": true
  }
 },
 "nbformat": 4,
 "nbformat_minor": 4
}
