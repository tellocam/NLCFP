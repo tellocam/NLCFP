{
 "cells": [
  {
   "cell_type": "markdown",
   "metadata": {},
   "source": [
    "$$\n",
    "\\DeclareMathOperator\\tr{tr}\n",
    "\\DeclareMathOperator\\Tr{Tr}\n",
    "\\DeclareMathOperator\\dev{dev}\n",
    "\\DeclareMathOperator\\Dev{Dev}\n",
    "\\DeclareMathOperator\\sph{sph}\n",
    "\\DeclareMathOperator\\Sph{Sph}\n",
    "\\newcommand{\\bF}{\\mathbf{F}}\n",
    "\\newcommand{\\bC}{\\mathbf{C}}\n",
    "\\newcommand{\\bd}{\\mathbf{d}}\n",
    "\\newcommand{\\bc}{\\mathbf{c}}\n",
    "\\newcommand{\\bA}{\\mathbf{A}}\n",
    "\\newcommand{\\bS}{\\mathbf{S}}\n",
    "\\newcommand{\\Bsigma}{{\\boldsymbol{\\sigma}}}\n",
    "\\newcommand{\\pdiff}[2]{\\frac{\\partial#1}{\\partial#2}}\n",
    "\\nonumber\n",
    "$$"
   ]
  },
  {
   "cell_type": "markdown",
   "metadata": {},
   "source": [
    "# General Setup"
   ]
  },
  {
   "cell_type": "code",
   "execution_count": 1,
   "metadata": {},
   "outputs": [],
   "source": [
    "%matplotlib nbagg"
   ]
  },
  {
   "cell_type": "code",
   "execution_count": 2,
   "metadata": {},
   "outputs": [],
   "source": [
    "import numpy as np\n",
    "import matplotlib.pyplot as plt\n",
    "import time"
   ]
  },
  {
   "cell_type": "code",
   "execution_count": 3,
   "metadata": {},
   "outputs": [
    {
     "name": "stdout",
     "output_type": "stream",
     "text": [
      "importing NGSolve-6.2.2204\n"
     ]
    }
   ],
   "source": [
    "from ngsolve import *\n",
    "from ngsolve.webgui import Draw\n",
    "from ngsolve.comp import IntegrationRuleSpace\n",
    "from netgen.csg import *\n",
    "from ngsolve.solvers import Newton"
   ]
  },
  {
   "cell_type": "code",
   "execution_count": 4,
   "metadata": {},
   "outputs": [
    {
     "name": "stdout",
     "output_type": "stream",
     "text": [
      "('bottom', 'back', 'right', 'front', 'top', 'left')\n"
     ]
    }
   ],
   "source": [
    "SetNumThreads(1)\n",
    "\n",
    "cube = OrthoBrick(Pnt(0,0,0), Pnt(1,1,1))\n",
    "geo = CSGeometry()\n",
    "geo.Add(cube)\n",
    "\n",
    "mesh = Mesh(geo.GenerateMesh(maxh=0.2, quad_dominated=False))\n",
    "#Draw(mesh)\n",
    "\n",
    "names = [ \"bottom\", \"back\", \"right\", \"front\", \"top\", \"left\", \"inner\" ]\n",
    "for i, name in enumerate(names):\n",
    "    mesh.ngmesh.SetBCName(i, name)\n",
    "print (mesh.GetBoundaries())\n",
    "\n",
    "d = mesh.dim"
   ]
  },
  {
   "cell_type": "code",
   "execution_count": 5,
   "metadata": {},
   "outputs": [],
   "source": [
    "import numpy as np"
   ]
  },
  {
   "cell_type": "markdown",
   "metadata": {},
   "source": [
    "# Parameters"
   ]
  },
  {
   "cell_type": "code",
   "execution_count": 6,
   "metadata": {},
   "outputs": [],
   "source": [
    "parameters = dict(\n",
    "    G=1,\n",
    "    Gprime_f=1e2,\n",
    ")"
   ]
  },
  {
   "cell_type": "code",
   "execution_count": 7,
   "metadata": {},
   "outputs": [],
   "source": [
    "G = Parameter(parameters[\"G\"])\n",
    "Gprime_f = Parameter(parameters[\"Gprime_f\"])\n",
    "Gprime = Gprime_f * G"
   ]
  },
  {
   "cell_type": "markdown",
   "metadata": {},
   "source": [
    "# Energy functions"
   ]
  },
  {
   "cell_type": "code",
   "execution_count": 8,
   "metadata": {},
   "outputs": [],
   "source": [
    "I = Id(d)"
   ]
  },
  {
   "cell_type": "code",
   "execution_count": 9,
   "metadata": {},
   "outputs": [],
   "source": [
    "def C(F):\n",
    "    return F.trans * F\n",
    "\n",
    "\n",
    "def I_1(C):\n",
    "    return Trace(C)\n",
    "\n",
    "\n",
    "def I_3(C):\n",
    "    return Det(C)\n",
    "\n",
    "\n",
    "# \"Deviatoric\" part of energy density\n",
    "def Psi_dev(C, G):\n",
    "    return G/2 * (I_1(C) - d - log(I_3(C)))\n",
    "\n",
    "\n",
    "# Purely volumetric part of energy density\n",
    "def Psi_vol(C, G_prime):\n",
    "    return G_prime/2 * (sqrt(I_3(C)) - 1)**2\n",
    "\n",
    "\n",
    "def Psi(C, G, G_prime):\n",
    "    return Psi_dev(C, G) + Psi_vol(C, G_prime)"
   ]
  },
  {
   "cell_type": "code",
   "execution_count": 10,
   "metadata": {},
   "outputs": [],
   "source": [
    "def Compile(cf, **options): \n",
    "    _realcompile = options.get(\"realcompile\", False)\n",
    "    return cf.Compile(realcompile=_realcompile)"
   ]
  },
  {
   "cell_type": "markdown",
   "metadata": {},
   "source": [
    "# A homogeneous BVP"
   ]
  },
  {
   "cell_type": "code",
   "execution_count": 11,
   "metadata": {},
   "outputs": [],
   "source": [
    "fes_u = VectorH1(mesh, order=2, dirichletx=\"front\", dirichlety=\"left\", dirichletz=\"top|bottom\")"
   ]
  },
  {
   "cell_type": "code",
   "execution_count": 12,
   "metadata": {},
   "outputs": [],
   "source": [
    "u, u_test = fes_u.TnT()"
   ]
  },
  {
   "cell_type": "code",
   "execution_count": 13,
   "metadata": {},
   "outputs": [],
   "source": [
    "def F(u):\n",
    "    return I + Grad(u)\n",
    "\n",
    "gfu = GridFunction(fes_u)"
   ]
  },
  {
   "cell_type": "markdown",
   "metadata": {},
   "source": [
    "# Forms"
   ]
  },
  {
   "cell_type": "code",
   "execution_count": 14,
   "metadata": {},
   "outputs": [],
   "source": [
    "energy_density = Psi(C(F(u)), G, Gprime)"
   ]
  },
  {
   "cell_type": "code",
   "execution_count": 15,
   "metadata": {},
   "outputs": [],
   "source": [
    "a = BilinearForm(fes_u, symmetric=True)\n",
    "a += Variation(Compile(energy_density) * dx)"
   ]
  },
  {
   "cell_type": "code",
   "execution_count": 16,
   "metadata": {},
   "outputs": [],
   "source": [
    "t = 0\n",
    "gfu.Set((0, 0, 0))\n",
    "delta_t = Parameter(0.1)"
   ]
  },
  {
   "cell_type": "markdown",
   "metadata": {},
   "source": [
    "# Run"
   ]
  },
  {
   "cell_type": "code",
   "execution_count": 17,
   "metadata": {},
   "outputs": [],
   "source": [
    "u_top = Parameter(0)\n",
    "tol = 1e-10\n",
    "t = 0\n",
    "gfu.Set((0, 0, 0))\n",
    "dfu = GridFunction(fes_u)"
   ]
  },
  {
   "cell_type": "code",
   "execution_count": 18,
   "metadata": {},
   "outputs": [],
   "source": [
    "def disp(t):\n",
    "    return t"
   ]
  },
  {
   "cell_type": "code",
   "execution_count": 19,
   "metadata": {},
   "outputs": [
    {
     "name": "stdout",
     "output_type": "stream",
     "text": [
      "\n",
      "t:  0\n",
      "disp(t):  0\n",
      "Newton iteration  0\n",
      "err =  0.0\n",
      "(0, 1)\n",
      "\n",
      "t:  0.1\n",
      "disp(t):  0.1\n",
      "Newton iteration  0\n",
      "err =  0.0716342945377445\n",
      "Newton iteration  1\n",
      "err =  0.00038065647432666366\n",
      "Newton iteration  2\n",
      "err =  1.06610570027293e-08\n",
      "Newton iteration  3\n",
      "err =  1.6096227459998463e-15\n",
      "(0, 4)\n",
      "\n",
      "t:  0.2\n",
      "disp(t):  0.2\n",
      "Newton iteration  0\n",
      "err =  0.05951989234753596\n",
      "Newton iteration  1\n",
      "err =  0.00026224108176861686\n",
      "Newton iteration  2\n",
      "err =  5.05623934429478e-09\n",
      "Newton iteration  3\n",
      "err =  1.6416428905035183e-15\n",
      "(0, 4)\n",
      "\n",
      "t:  0.30000000000000004\n",
      "disp(t):  0.30000000000000004\n",
      "Newton iteration  0\n",
      "err =  0.05023814893936566\n",
      "Newton iteration  1\n",
      "err =  0.00018651705527436048\n",
      "Newton iteration  2\n",
      "err =  2.5562411903842e-09\n",
      "Newton iteration  3\n",
      "err =  1.7392921691045712e-15\n",
      "(0, 4)\n",
      "\n",
      "t:  0.4\n",
      "disp(t):  0.4\n",
      "Newton iteration  0\n",
      "err =  0.04296999721787357\n",
      "Newton iteration  1\n",
      "err =  0.0001362683479428678\n",
      "Newton iteration  2\n",
      "err =  1.363735257514115e-09\n",
      "Newton iteration  3\n",
      "err =  1.78847506294057e-15\n",
      "(0, 4)\n",
      "\n",
      "t:  0.5\n",
      "disp(t):  0.5\n",
      "Newton iteration  0\n",
      "err =  0.03717239419265082\n",
      "Newton iteration  1\n",
      "err =  0.00010186427726347788\n",
      "Newton iteration  2\n",
      "err =  7.617085564439626e-10\n",
      "Newton iteration  3\n",
      "err =  2.0883539784464392e-15\n",
      "(0, 4)\n",
      "\n",
      "t:  0.6\n",
      "disp(t):  0.6\n",
      "Newton iteration  0\n",
      "err =  0.03247376611787507\n",
      "Newton iteration  1\n",
      "err =  7.766795428109227e-05\n",
      "Newton iteration  2\n",
      "err =  4.4264745921019484e-10\n",
      "Newton iteration  3\n",
      "err =  2.114757630577447e-15\n",
      "(0, 4)\n",
      "\n",
      "t:  0.7\n",
      "disp(t):  0.7\n",
      "Newton iteration  0\n",
      "err =  0.0286129073254945\n",
      "Newton iteration  1\n",
      "err =  6.0250141434456324e-05\n",
      "Newton iteration  2\n",
      "err =  2.6628053588524124e-10\n",
      "Newton iteration  3\n",
      "err =  2.220446894615398e-15\n",
      "(0, 4)\n",
      "\n",
      "t:  0.7999999999999999\n",
      "disp(t):  0.7999999999999999\n",
      "Newton iteration  0\n",
      "err =  0.025401852867635816\n",
      "Newton iteration  1\n",
      "err =  4.745385805659073e-05\n",
      "Newton iteration  2\n",
      "err =  1.6513222363383193e-10\n",
      "Newton iteration  3\n",
      "err =  2.6182138692065255e-15\n",
      "(0, 4)\n",
      "\n",
      "t:  0.8999999999999999\n",
      "disp(t):  0.8999999999999999\n",
      "Newton iteration  0\n",
      "err =  0.022702546752369625\n",
      "Newton iteration  1\n",
      "err =  3.788227850115899e-05\n",
      "Newton iteration  2\n",
      "err =  1.0520605815736116e-10\n",
      "Newton iteration  3\n",
      "err =  2.6642495188529993e-15\n",
      "(0, 4)\n",
      "\n",
      "t:  0.9999999999999999\n",
      "disp(t):  0.9999999999999999\n",
      "Newton iteration  0\n",
      "err =  0.020411743370208676\n",
      "Newton iteration  1\n",
      "err =  3.0607343051418225e-05\n",
      "Newton iteration  2\n",
      "err =  6.866128208931675e-11\n",
      "Newton iteration  3\n",
      "err =  3.0256366964009777e-15\n",
      "(0, 4)\n"
     ]
    }
   ],
   "source": [
    "while t < 1:\n",
    "    \n",
    "    with TaskManager(pajetrace=10**8):\n",
    "        \n",
    "        print()\n",
    "        print(\"t: \", t)\n",
    "        print(\"disp(t): \", disp(t))\n",
    "        dfu.Set((dfu[0], dfu[1], disp(t)), definedon=mesh.Boundaries(\"top\"))\n",
    "        ret = Newton(a, gfu, inverse=\"pardiso\", dirichletvalues=dfu.vec)\n",
    "        print(ret)\n",
    "        t += delta_t.Get()"
   ]
  },
  {
   "cell_type": "code",
   "execution_count": 20,
   "metadata": {},
   "outputs": [
    {
     "data": {
      "application/vnd.jupyter.widget-view+json": {
       "model_id": "5b68905cd2b24e2aa288c5a2058a1f5c",
       "version_major": 2,
       "version_minor": 0
      },
      "text/plain": [
       "WebGuiWidget(value={'gui_settings': {}, 'ngsolve_version': '6.2.2204', 'mesh_dim': 3, 'order2d': 2, 'order3d':…"
      ]
     },
     "metadata": {},
     "output_type": "display_data"
    },
    {
     "data": {
      "text/plain": [
       "BaseWebGuiScene"
      ]
     },
     "execution_count": 20,
     "metadata": {},
     "output_type": "execute_result"
    }
   ],
   "source": [
    "Draw(gfu[2], mesh)"
   ]
  },
  {
   "cell_type": "code",
   "execution_count": null,
   "metadata": {},
   "outputs": [],
   "source": []
  }
 ],
 "metadata": {
  "kernelspec": {
   "display_name": "Python 3.8.10 ('venv': venv)",
   "language": "python",
   "name": "python3"
  },
  "language_info": {
   "codemirror_mode": {
    "name": "ipython",
    "version": 3
   },
   "file_extension": ".py",
   "mimetype": "text/x-python",
   "name": "python",
   "nbconvert_exporter": "python",
   "pygments_lexer": "ipython3",
   "version": "3.8.10"
  },
  "latex_envs": {
   "LaTeX_envs_menu_present": true,
   "autoclose": false,
   "autocomplete": true,
   "bibliofile": "biblio.bib",
   "cite_by": "apalike",
   "current_citInitial": 1,
   "eqLabelWithNumbers": true,
   "eqNumInitial": 1,
   "hotkeys": {
    "equation": "Ctrl-E",
    "itemize": "Ctrl-I"
   },
   "labels_anchors": false,
   "latex_user_defs": false,
   "report_style_numbering": false,
   "user_envs_cfg": false
  },
  "toc": {
   "base_numbering": 1,
   "nav_menu": {},
   "number_sections": true,
   "sideBar": true,
   "skip_h1_title": false,
   "title_cell": "Table of Contents",
   "title_sidebar": "Contents",
   "toc_cell": false,
   "toc_position": {
    "height": "47.7167px",
    "left": "87px",
    "top": "134.133px",
    "width": "292.95px"
   },
   "toc_section_display": false,
   "toc_window_display": true
  },
  "vscode": {
   "interpreter": {
    "hash": "b13762830d5b1ad5d09e9c582d942228bf79b025683bb2ab50f4aec815ef5fab"
   }
  }
 },
 "nbformat": 4,
 "nbformat_minor": 4
}
